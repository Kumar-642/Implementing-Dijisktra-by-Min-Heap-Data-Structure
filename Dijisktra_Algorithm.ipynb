{
  "nbformat": 4,
  "nbformat_minor": 0,
  "metadata": {
    "colab": {
      "provenance": []
    },
    "kernelspec": {
      "name": "python3",
      "display_name": "Python 3"
    },
    "language_info": {
      "name": "python"
    }
  },
  "cells": [
    {
      "cell_type": "code",
      "execution_count": null,
      "metadata": {
        "colab": {
          "base_uri": "https://localhost:8080/"
        },
        "id": "8DN6dAEX_eEJ",
        "outputId": "72966b8f-9979-43ad-f936-595e6462261c"
      },
      "outputs": [
        {
          "output_type": "stream",
          "name": "stdout",
          "text": [
            "1\n",
            "0\n",
            "{0: [1], 1: [2, 3], 2: [3, 4], 3: [4, 5], 4: [5, 6], 5: [6, 7], 6: [7, 8], 7: [8, 9], 8: [9, 0], 9: [0]}\n",
            "[1, 2, 3, 4, 5, 6, 7, 8, 9, 0]\n",
            "10\n"
          ]
        }
      ],
      "source": [
        "def dfslist(Alist,start):\n",
        "    visited = {}\n",
        "    parent = {}\n",
        "    for i in Alist.keys():\n",
        "        visited[i] = False\n",
        "        parent[i] = -2\n",
        "    parent[start]=-1\n",
        "    visited,parent = dfs(visited,Alist,parent,start)\n",
        "    return (visited,parent)\n",
        "\n",
        "def dfs(visited,Alist,parent,v):\n",
        "    visited[v] = True\n",
        "    for u in Alist[v]:\n",
        "        if not visited[u]:\n",
        "            parent[u]=v\n",
        "            dfs(visited,Alist,parent,u)\n",
        "    return (visited,parent)\n",
        "def minimumhops(Alist,start,end):\n",
        "    path = []\n",
        "    visited,parent = dfslist(Alist,start)\n",
        "    if not visited[end]:\n",
        "        return [start]\n",
        "    else:\n",
        "        dist = end\n",
        "        while(dist!=start):\n",
        "            path = [dist]+path\n",
        "            for (i,j) in parent.items():\n",
        "                if dist==i:\n",
        "                    dist = j\n",
        "                    break\n",
        "        path = [start]+path\n",
        "        [print(path)]\n",
        "    return path\n",
        "\n",
        "\n",
        "start = int(input())\n",
        "end = int(input())\n",
        "AList = eval(input())\n",
        "shortestpath = minimumhops(AList, start, end)\n",
        "print(len(shortestpath))"
      ]
    }
  ]
}