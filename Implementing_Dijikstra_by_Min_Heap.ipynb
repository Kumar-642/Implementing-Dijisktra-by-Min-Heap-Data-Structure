{
  "nbformat": 4,
  "nbformat_minor": 0,
  "metadata": {
    "colab": {
      "provenance": []
    },
    "kernelspec": {
      "name": "python3",
      "display_name": "Python 3"
    },
    "language_info": {
      "name": "python"
    }
  },
  "cells": [
    {
      "cell_type": "markdown",
      "source": [
        "## Creating Min Heap Data Structure\n",
        "\n",
        "\n",
        "\n",
        "\n"
      ],
      "metadata": {
        "id": "J4w6sI-XHNkl"
      }
    },
    {
      "cell_type": "code",
      "execution_count": 1,
      "metadata": {
        "id": "anWqWYCEBiMJ"
      },
      "outputs": [],
      "source": [
        "def heapify(i,size):\n",
        "    lchild = 2*i + 1\n",
        "    rchild = 2*i + 2\n",
        "    small = i\n",
        "    if lchild < size-1 and HtoV[lchild][1] < HtoV[small][1]:\n",
        "        small = lchild\n",
        "    if rchild < size-1 and HtoV[rchild][1] < HtoV[small][1]:\n",
        "        small = rchild\n",
        "    if small != i:\n",
        "        VtoH[HtoV[small][0]] = i\n",
        "        VtoH[HtoV[i][0]] = small\n",
        "        (HtoV[small],HtoV[i]) = (HtoV[i], HtoV[small])\n",
        "        heapify(small,size)\n",
        "def create_heap(size):\n",
        "    for x in range((size//2)-1,-1,-1):\n",
        "        heapify(x,size)\n",
        "\n",
        "def min_update(i,size):\n",
        "    if i!= 0:\n",
        "        while i > 0:\n",
        "            parent = (i-1)//2\n",
        "            if HtoV[parent][1] >  HtoV[i][1]:\n",
        "                VtoH[HtoV[parent][0]] = i\n",
        "                VtoH[HtoV[i][0]] = parent\n",
        "                (HtoV[parent],HtoV[i]) = (HtoV[i], HtoV[parent])\n",
        "            else:\n",
        "                break\n",
        "            i = parent\n",
        "\n",
        "def delete_min(hsize):\n",
        "    VtoH[HtoV[0][0]] = hsize-1\n",
        "    VtoH[HtoV[hsize-1][0]] = 0\n",
        "    HtoV[hsize-1],HtoV[0] = HtoV[0],HtoV[hsize-1]\n",
        "    node,dist = HtoV[hsize-1]\n",
        "    hsize = hsize - 1\n",
        "    heapify(0,hsize)\n",
        "    return node,dist,hsize\n",
        "\n",
        "\n"
      ]
    },
    {
      "cell_type": "markdown",
      "source": [
        "## Implementing Dijikstra Algorithm  by using Min Heap Data Structure"
      ],
      "metadata": {
        "id": "7c_qMHKCHbHP"
      }
    },
    {
      "cell_type": "code",
      "source": [
        "# Dijikstra Function\n",
        "\n",
        "def dijk(Wlist,s):\n",
        "  size = len(Wlist.keys())\n",
        "  infinity = 1+len(Wlist.keys())*(max([d for u in Wlist.keys() for (v,d) in Wlist[u]]))\n",
        "  visited = {}\n",
        "  for v in Wlist.keys():\n",
        "    visited[v] = False\n",
        "    VtoH[v] = v\n",
        "    HtoV[v] = [v,infinity]\n",
        "  HtoV[s] = [s,0]\n",
        "  print(HtoV)\n",
        "  s = create_heap(size)\n",
        "  for u in Wlist.keys():\n",
        "    nextv,ds,size = delete_min(size)\n",
        "    print(nextv)\n",
        "    visited[nextv] = True\n",
        "    print(visited)\n",
        "    for (v,d) in Wlist[nextv]:\n",
        "      if not visited[v]:\n",
        "        HtoV[v][1] = min(HtoV[v][1],d+ds)\n",
        "        min_update(VtoH[v],size)\n",
        "      print(HtoV)"
      ],
      "metadata": {
        "id": "iC_p0Z0LHJa9"
      },
      "execution_count": 2,
      "outputs": []
    },
    {
      "cell_type": "markdown",
      "source": [
        "## **Example:**"
      ],
      "metadata": {
        "id": "j0iu783yHsb1"
      }
    },
    {
      "cell_type": "markdown",
      "source": [
        "Let we have a graph:\n",
        "\n",
        "        edges = [(0,1,10),(0,2,80),(1,2,6),(1,4,20),(2,3,70),(4,5,50),(4,6,5),(5,6,10)"
      ],
      "metadata": {
        "id": "_UoWiZ_1HxXy"
      }
    },
    {
      "cell_type": "markdown",
      "source": [
        "we want to find the shortest distance between vertex 0 to all other vertex"
      ],
      "metadata": {
        "id": "BdJfm87YIALP"
      }
    },
    {
      "cell_type": "code",
      "source": [],
      "metadata": {
        "id": "Jp5tPB-NH_iE"
      },
      "execution_count": null,
      "outputs": []
    },
    {
      "cell_type": "code",
      "source": [
        "edges = [(0,1,10),(0,2,80),(1,2,6),(1,4,20),(2,3,70),(4,5,50),(4,6,5),(5,6,10)]\n",
        "Wlist = {}\n",
        "size = 7\n",
        "for i in range(size):\n",
        "  Wlist[i] = []\n",
        "for (u,v,d) in edges:\n",
        "  Wlist[u].append((v,d))\n",
        "s = 0              # Starting point will be 0.\n",
        "VtoH = {}         # Vertex to Heap (This dictionary contains vertex as key and their position on Heap as values i.e {Vertex:Heap_Position})\n",
        "HtoV = {}         # Heap to Vertex (This dictionary contains heap as position as a key and [vertex, distance of vertex from 0] as value i.e {heap_pos:[vertex,distance]} )\n",
        "dijk(Wlist,s)      # Calling Dijisktra Function\n",
        "for i in Wlist.keys():\n",
        "    print('The shortest distance between {0} and {1} = {2}'.format(s,i,HtoV[VtoH[i]][1]))"
      ],
      "metadata": {
        "colab": {
          "base_uri": "https://localhost:8080/"
        },
        "id": "xFjBsfbZB-b8",
        "outputId": "d891d22f-47a3-4ab8-b7d4-9f898a1dc21d"
      },
      "execution_count": 3,
      "outputs": [
        {
          "output_type": "stream",
          "name": "stdout",
          "text": [
            "{0: [0, 0], 1: [1, 561], 2: [2, 561], 3: [3, 561], 4: [4, 561], 5: [5, 561], 6: [6, 561]}\n",
            "0\n",
            "{0: True, 1: False, 2: False, 3: False, 4: False, 5: False, 6: False}\n",
            "{0: [1, 10], 1: [6, 561], 2: [2, 561], 3: [3, 561], 4: [4, 561], 5: [5, 561], 6: [0, 0]}\n",
            "{0: [1, 10], 1: [6, 561], 2: [2, 80], 3: [3, 561], 4: [4, 561], 5: [5, 561], 6: [0, 0]}\n",
            "1\n",
            "{0: True, 1: True, 2: False, 3: False, 4: False, 5: False, 6: False}\n",
            "{0: [2, 80], 1: [6, 561], 2: [5, 16], 3: [3, 561], 4: [4, 561], 5: [1, 10], 6: [0, 0]}\n",
            "{0: [4, 30], 1: [2, 80], 2: [5, 16], 3: [3, 561], 4: [6, 561], 5: [1, 10], 6: [0, 0]}\n",
            "4\n",
            "{0: True, 1: True, 2: False, 3: False, 4: True, 5: False, 6: False}\n",
            "{0: [5, 16], 1: [2, 80], 2: [6, 561], 3: [3, 561], 4: [4, 30], 5: [1, 10], 6: [0, 0]}\n",
            "{0: [5, 16], 1: [2, 80], 2: [6, 561], 3: [3, 561], 4: [4, 30], 5: [1, 10], 6: [0, 0]}\n",
            "5\n",
            "{0: True, 1: True, 2: False, 3: False, 4: True, 5: True, 6: False}\n",
            "{0: [2, 80], 1: [3, 561], 2: [6, 561], 3: [5, 16], 4: [4, 30], 5: [1, 10], 6: [0, 0]}\n",
            "2\n",
            "{0: True, 1: True, 2: True, 3: False, 4: True, 5: True, 6: False}\n",
            "{0: [6, 561], 1: [3, 561], 2: [2, 80], 3: [5, 16], 4: [4, 30], 5: [1, 10], 6: [0, 0]}\n",
            "6\n",
            "{0: True, 1: True, 2: True, 3: False, 4: True, 5: True, 6: True}\n",
            "3\n",
            "{0: True, 1: True, 2: True, 3: True, 4: True, 5: True, 6: True}\n",
            "The shortest distance between 0 and 0 = 0\n",
            "The shortest distance between 0 and 1 = 10\n",
            "The shortest distance between 0 and 2 = 80\n",
            "The shortest distance between 0 and 3 = 561\n",
            "The shortest distance between 0 and 4 = 30\n",
            "The shortest distance between 0 and 5 = 16\n",
            "The shortest distance between 0 and 6 = 561\n",
            "{0: 6, 1: 5, 2: 2, 3: 0, 4: 4, 5: 3, 6: 1}\n",
            "{0: [3, 561], 1: [6, 561], 2: [2, 80], 3: [5, 16], 4: [4, 30], 5: [1, 10], 6: [0, 0]}\n"
          ]
        }
      ]
    },
    {
      "cell_type": "code",
      "source": [],
      "metadata": {
        "id": "fooi7cteJbSR"
      },
      "execution_count": null,
      "outputs": []
    }
  ]
}